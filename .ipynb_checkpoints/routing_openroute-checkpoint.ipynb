{
 "cells": [
  {
   "cell_type": "markdown",
   "id": "d47346a0",
   "metadata": {},
   "source": [
    "# Basic Routing with OpenRouteService"
   ]
  },
  {
   "cell_type": "markdown",
   "id": "4ed2c232",
   "metadata": {},
   "source": [
    "Calculate routes and distances from origins and destinations stored in separate CSV files with coordinates, and generate a shapefile and plot on a Folium Map\n",
    "\n",
    "Using https://openrouteservice.org/ and https://pypi.org/project/openrouteservice/\n",
    "\n",
    "Basic examples: https://openrouteservice-py.readthedocs.io/en/latest/\n",
    "\n",
    "Frank Donnelly / Head GIS and Data Services / Brown University Library\n",
    "May 31, 2024"
   ]
  },
  {
   "cell_type": "code",
   "execution_count": 1,
   "id": "54afa37e",
   "metadata": {},
   "outputs": [],
   "source": [
    "import openrouteservice, os, csv, pandas as pd, geopandas as gpd, folium\n",
    "from shapely.geometry import shape\n",
    "from openrouteservice.directions import directions\n",
    "from openrouteservice import convert\n",
    "from datetime import date"
   ]
  },
  {
   "cell_type": "markdown",
   "id": "6be2df5c",
   "metadata": {},
   "source": [
    "# Variables"
   ]
  },
  {
   "cell_type": "code",
   "execution_count": 2,
   "id": "81a48fac",
   "metadata": {},
   "outputs": [],
   "source": [
    "# general description, used in output file\n",
    "routename='scili_to_libs'"
   ]
  },
  {
   "cell_type": "code",
   "execution_count": 3,
   "id": "3d17f13b",
   "metadata": {},
   "outputs": [],
   "source": [
    "# transit modes: [“driving-car”, “driving-hgv”, “foot-walking”, “foot-hiking”, “cycling-regular”, “cycling-road”,”cycling-mountain”, “cycling-electric”,]\n",
    "tmode='driving-car'"
   ]
  },
  {
   "cell_type": "code",
   "execution_count": 4,
   "id": "b59456d8",
   "metadata": {},
   "outputs": [],
   "source": [
    "# distance units: [“m”, “km”, “mi”]\n",
    "dunits='mi'"
   ]
  },
  {
   "cell_type": "code",
   "execution_count": 5,
   "id": "4696f4f5",
   "metadata": {},
   "outputs": [],
   "source": [
    "# route preference: [“fastest, “shortest”, “recommended”]\n",
    "rpref='fastest'"
   ]
  },
  {
   "cell_type": "code",
   "execution_count": 6,
   "id": "6d200b8c",
   "metadata": {},
   "outputs": [],
   "source": [
    "# Origin CSV: Column positions that contain: unique ID, name, longitude, latitude\n",
    "ogn_id=0\n",
    "ogn_name=1\n",
    "ogn_long=2\n",
    "ogn_lat=3"
   ]
  },
  {
   "cell_type": "code",
   "execution_count": 7,
   "id": "aa7932c3",
   "metadata": {},
   "outputs": [],
   "source": [
    "# Destination CSV: Column positions that contain: unique ID, name, longitude, latitude\n",
    "d_id=0\n",
    "d_name=1\n",
    "d_long=2\n",
    "d_lat=3"
   ]
  },
  {
   "cell_type": "code",
   "execution_count": 8,
   "id": "ba18521c",
   "metadata": {},
   "outputs": [],
   "source": [
    "# INPUT and OUTPUT Files\n",
    "\n",
    "today=str(date.today()).replace('-','_')\n",
    "\n",
    "keyfile='ors_key.txt'\n",
    "origin_file=os.path.join('input','origins.csv')\n",
    "dest_file=os.path.join('input','destinations.csv')\n",
    "route_file=routename+'_'+tmode+'_'+rpref+'_'+today+'.shp'\n",
    "out_file=os.path.join('output',route_file)"
   ]
  },
  {
   "cell_type": "markdown",
   "id": "86e133b1",
   "metadata": {},
   "source": [
    "# Read Files"
   ]
  },
  {
   "cell_type": "code",
   "execution_count": 9,
   "id": "5c0e7d49",
   "metadata": {},
   "outputs": [],
   "source": [
    "def file_reader(infile,outlist):\n",
    "    with open(infile,'r') as f:\n",
    "        reader = csv.reader(f)    \n",
    "        for row in reader:\n",
    "            rec = [i.strip() for i in row]\n",
    "            outlist.append(rec)"
   ]
  },
  {
   "cell_type": "code",
   "execution_count": 10,
   "id": "e50e4fbc",
   "metadata": {},
   "outputs": [
    {
     "data": {
      "text/plain": [
       "[['origin_id', 'name', 'long', 'lat'], ['0', 'SciLi', '-71.4', '41.8269']]"
      ]
     },
     "execution_count": 10,
     "metadata": {},
     "output_type": "execute_result"
    }
   ],
   "source": [
    "origins=[]\n",
    "file_reader(origin_file,origins)\n",
    "origins"
   ]
  },
  {
   "cell_type": "code",
   "execution_count": 11,
   "id": "40beee33",
   "metadata": {},
   "outputs": [
    {
     "data": {
      "text/plain": [
       "[['dest_id', 'name', 'long', 'lat'],\n",
       " ['1', 'Rock', '-71.405089', '41.825725'],\n",
       " ['2', 'Hay', '-71.404947', '41.826433'],\n",
       " ['3', 'Orwig', '-71.396609', '41.824581'],\n",
       " ['4', 'Champlin', '-71.408194', '41.818912']]"
      ]
     },
     "execution_count": 11,
     "metadata": {},
     "output_type": "execute_result"
    }
   ],
   "source": [
    "dest=[]\n",
    "file_reader(dest_file,dest)\n",
    "dest"
   ]
  },
  {
   "cell_type": "code",
   "execution_count": 12,
   "id": "b5372e53",
   "metadata": {},
   "outputs": [],
   "source": [
    "route_count=0\n",
    "route_list=[]\n",
    "# Column header for route output file:\n",
    "header=['ogn_id','ogn_name','dest_id','dest_name','distance','travtime','route']"
   ]
  },
  {
   "cell_type": "code",
   "execution_count": 13,
   "id": "a046b6ae",
   "metadata": {},
   "outputs": [],
   "source": [
    "# Read api key in from file\n",
    "with open(keyfile) as key:\n",
    "    api_key=key.read().strip()"
   ]
  },
  {
   "cell_type": "markdown",
   "id": "aef9e7f2",
   "metadata": {},
   "source": [
    "# REQUESTS BLOCK - API CALL"
   ]
  },
  {
   "cell_type": "code",
   "execution_count": 14,
   "id": "16df4ff7",
   "metadata": {},
   "outputs": [
    {
     "name": "stdout",
     "output_type": "stream",
     "text": [
      "Plotted 4 routes...\n"
     ]
    }
   ],
   "source": [
    "for ogn in origins[1:]:\n",
    "    for d in dest[1:]:\n",
    "        try:\n",
    "            coords=((ogn[ogn_long],ogn[ogn_lat]),(d[d_long],d[d_lat]))\n",
    "            client = openrouteservice.Client(key=api_key) \n",
    "            # Take the returned object, save into nested dicts:\n",
    "            results = directions(client, coords, \n",
    "                                profile=tmode,instructions=False, preference=rpref,units=dunits)\n",
    "            dist = results['routes'][0]['summary']['distance']\n",
    "            travtime=results['routes'][0]['summary']['duration']/60 # Get minutes\n",
    "            encoded_geom = results['routes'][0]['geometry']\n",
    "            decoded_geom = convert.decode_polyline(encoded_geom) #convert from binary to txt\n",
    "            wkt_geom=shape(decoded_geom).wkt #convert from json polyline to wkt\n",
    "            route=[ogn[ogn_id],ogn[ogn_name],d[d_id],d[d_name],dist,travtime,wkt_geom]\n",
    "            route_list.append(route)\n",
    "            route_count=route_count+1\n",
    "        except Exception as e:\n",
    "            print(str(e))\n",
    "\n",
    "print('Plotted',route_count,'routes...' )\n",
    "api_key=''"
   ]
  },
  {
   "cell_type": "code",
   "execution_count": 15,
   "id": "0c4629c2",
   "metadata": {},
   "outputs": [
    {
     "data": {
      "text/plain": [
       "{'bbox': [-71.407936, 41.816881, -71.39826, 41.827404],\n",
       " 'routes': [{'summary': {'distance': 1.229, 'duration': 232.2},\n",
       "   'bbox': [-71.407936, 41.816881, -71.39826, 41.827404],\n",
       "   'geometry': '_jh~FhhxrLg@FEcASBEy@fAKVC~Fc@z@GxAKjDU|D]lAMFA`@G~@EfAGbCOrBInBKbBKH~CJdALn@@F?P^xCVvAF^l@lCRr@Z|@Nl@JRpC~I^~Al@dB~@nDJNo@`@qBpAu@f@}@l@_CvAGB',\n",
       "   'way_points': [0, 44]}],\n",
       " 'metadata': {'attribution': 'openrouteservice.org | OpenStreetMap contributors',\n",
       "  'service': 'routing',\n",
       "  'timestamp': 1717185428567,\n",
       "  'query': {'coordinates': [[-71.4, 41.8269], [-71.408194, 41.818912]],\n",
       "   'profile': 'driving-car',\n",
       "   'preference': 'fastest',\n",
       "   'format': 'json',\n",
       "   'units': 'mi'},\n",
       "  'engine': {'version': '8.0.1',\n",
       "   'build_date': '2024-05-14T10:47:52Z',\n",
       "   'graph_date': '2024-05-22T15:20:03Z'},\n",
       "  'system_message': \"Preference 'fastest' has been deprecated, using 'recommended'.\"}}"
      ]
     },
     "execution_count": 15,
     "metadata": {},
     "output_type": "execute_result"
    }
   ],
   "source": [
    "# For example: original output record\n",
    "results"
   ]
  },
  {
   "cell_type": "code",
   "execution_count": 16,
   "id": "ebcd92aa",
   "metadata": {},
   "outputs": [
    {
     "data": {
      "text/plain": [
       "['0',\n",
       " 'SciLi',\n",
       " '4',\n",
       " 'Champlin',\n",
       " 1.229,\n",
       " 3.8699999999999997,\n",
       " 'LINESTRING (-71.39989 41.82704, -71.39993 41.82724, -71.39959 41.82727, -71.39961 41.82737, -71.39932 41.8274, -71.39926 41.82704, -71.39924000000001 41.82692, -71.39906000000001 41.82564, -71.39901999999999 41.82534, -71.39896 41.82489, -71.39885 41.82403, -71.39870000000001 41.82308, -71.39863 41.82269, -71.39861999999999 41.82265, -71.39858 41.82248, -71.39855 41.82216, -71.39851 41.8218, -71.39843 41.82114, -71.39838 41.82056, -71.39832 41.82, -71.39825999999999 41.8195, -71.39906000000001 41.81945, -71.39941 41.81939, -71.39964999999999 41.81932, -71.39969000000001 41.81931, -71.39978000000001 41.81931, -71.40055 41.81915, -71.40098999999999 41.81903, -71.40115 41.81899, -71.40186 41.81876, -71.40212 41.81866, -71.40243 41.81852, -71.40266 41.81844, -71.40276 41.81838, -71.40452000000001 41.81765, -71.405 41.81749, -71.40551000000001 41.81726, -71.40639 41.81694, -71.40647 41.81688, -71.40664 41.81712, -71.40705 41.81769, -71.40725 41.81796, -71.40748000000001 41.81827, -71.40792 41.81891, -71.40794 41.81895)']"
      ]
     },
     "execution_count": 16,
     "metadata": {},
     "output_type": "execute_result"
    }
   ],
   "source": [
    "# For example: extracted and formatted output record\n",
    "route"
   ]
  },
  {
   "cell_type": "markdown",
   "id": "4c1b1c27",
   "metadata": {},
   "source": [
    "# Generate Output"
   ]
  },
  {
   "cell_type": "code",
   "execution_count": 17,
   "id": "3082e10d",
   "metadata": {},
   "outputs": [
    {
     "name": "stdout",
     "output_type": "stream",
     "text": [
      "Wrote shapefile to: output\\scili_to_libs_driving-car_fastest_2024_05_31.shp\n"
     ]
    },
    {
     "data": {
      "text/html": [
       "<div>\n",
       "<style scoped>\n",
       "    .dataframe tbody tr th:only-of-type {\n",
       "        vertical-align: middle;\n",
       "    }\n",
       "\n",
       "    .dataframe tbody tr th {\n",
       "        vertical-align: top;\n",
       "    }\n",
       "\n",
       "    .dataframe thead th {\n",
       "        text-align: right;\n",
       "    }\n",
       "</style>\n",
       "<table border=\"1\" class=\"dataframe\">\n",
       "  <thead>\n",
       "    <tr style=\"text-align: right;\">\n",
       "      <th></th>\n",
       "      <th>ogn_id</th>\n",
       "      <th>ogn_name</th>\n",
       "      <th>dest_id</th>\n",
       "      <th>dest_name</th>\n",
       "      <th>distance</th>\n",
       "      <th>travtime</th>\n",
       "      <th>geometry</th>\n",
       "    </tr>\n",
       "  </thead>\n",
       "  <tbody>\n",
       "    <tr>\n",
       "      <th>0</th>\n",
       "      <td>0</td>\n",
       "      <td>SciLi</td>\n",
       "      <td>1</td>\n",
       "      <td>Rock</td>\n",
       "      <td>0.526</td>\n",
       "      <td>2.178333</td>\n",
       "      <td>LINESTRING (-71.39989 41.82704, -71.39993 41.8...</td>\n",
       "    </tr>\n",
       "    <tr>\n",
       "      <th>1</th>\n",
       "      <td>0</td>\n",
       "      <td>SciLi</td>\n",
       "      <td>2</td>\n",
       "      <td>Hay</td>\n",
       "      <td>0.478</td>\n",
       "      <td>1.866667</td>\n",
       "      <td>LINESTRING (-71.39989 41.82704, -71.39993 41.8...</td>\n",
       "    </tr>\n",
       "    <tr>\n",
       "      <th>2</th>\n",
       "      <td>0</td>\n",
       "      <td>SciLi</td>\n",
       "      <td>3</td>\n",
       "      <td>Orwig</td>\n",
       "      <td>0.455</td>\n",
       "      <td>1.741667</td>\n",
       "      <td>LINESTRING (-71.39989 41.82704, -71.39993 41.8...</td>\n",
       "    </tr>\n",
       "    <tr>\n",
       "      <th>3</th>\n",
       "      <td>0</td>\n",
       "      <td>SciLi</td>\n",
       "      <td>4</td>\n",
       "      <td>Champlin</td>\n",
       "      <td>1.229</td>\n",
       "      <td>3.870000</td>\n",
       "      <td>LINESTRING (-71.39989 41.82704, -71.39993 41.8...</td>\n",
       "    </tr>\n",
       "  </tbody>\n",
       "</table>\n",
       "</div>"
      ],
      "text/plain": [
       "  ogn_id ogn_name dest_id dest_name  distance  travtime  \\\n",
       "0      0    SciLi       1      Rock     0.526  2.178333   \n",
       "1      0    SciLi       2       Hay     0.478  1.866667   \n",
       "2      0    SciLi       3     Orwig     0.455  1.741667   \n",
       "3      0    SciLi       4  Champlin     1.229  3.870000   \n",
       "\n",
       "                                            geometry  \n",
       "0  LINESTRING (-71.39989 41.82704, -71.39993 41.8...  \n",
       "1  LINESTRING (-71.39989 41.82704, -71.39993 41.8...  \n",
       "2  LINESTRING (-71.39989 41.82704, -71.39993 41.8...  \n",
       "3  LINESTRING (-71.39989 41.82704, -71.39993 41.8...  "
      ]
     },
     "execution_count": 17,
     "metadata": {},
     "output_type": "execute_result"
    }
   ],
   "source": [
    "# Create dataframes and shapefile\n",
    "df = pd.DataFrame(route_list, columns=header)\n",
    "gdf = gpd.GeoDataFrame(df, geometry=gpd.GeoSeries.from_wkt(df[\"route\"]),crs = 'EPSG:4326')\n",
    "gdf.drop(['route'],axis=1, inplace=True) # drop the wkt text\n",
    "gdf.to_file(out_file,index=True) # writes out a shapefile\n",
    "print(\"Wrote shapefile to:\", out_file)\n",
    "gdf\n"
   ]
  },
  {
   "cell_type": "code",
   "execution_count": 18,
   "id": "5bbc213e",
   "metadata": {},
   "outputs": [
    {
     "data": {
      "text/html": [
       "<div>\n",
       "<style scoped>\n",
       "    .dataframe tbody tr th:only-of-type {\n",
       "        vertical-align: middle;\n",
       "    }\n",
       "\n",
       "    .dataframe tbody tr th {\n",
       "        vertical-align: top;\n",
       "    }\n",
       "\n",
       "    .dataframe thead th {\n",
       "        text-align: right;\n",
       "    }\n",
       "</style>\n",
       "<table border=\"1\" class=\"dataframe\">\n",
       "  <thead>\n",
       "    <tr style=\"text-align: right;\">\n",
       "      <th></th>\n",
       "      <th>ogn_id</th>\n",
       "      <th>ogn_name</th>\n",
       "      <th>dest_id</th>\n",
       "      <th>dest_name</th>\n",
       "      <th>distance</th>\n",
       "      <th>travtime</th>\n",
       "      <th>geometry</th>\n",
       "      <th>color</th>\n",
       "    </tr>\n",
       "  </thead>\n",
       "  <tbody>\n",
       "    <tr>\n",
       "      <th>0</th>\n",
       "      <td>0</td>\n",
       "      <td>SciLi</td>\n",
       "      <td>1</td>\n",
       "      <td>Rock</td>\n",
       "      <td>0.526</td>\n",
       "      <td>2.178333</td>\n",
       "      <td>LINESTRING (-71.39989 41.82704, -71.39993 41.8...</td>\n",
       "      <td>red</td>\n",
       "    </tr>\n",
       "    <tr>\n",
       "      <th>1</th>\n",
       "      <td>0</td>\n",
       "      <td>SciLi</td>\n",
       "      <td>2</td>\n",
       "      <td>Hay</td>\n",
       "      <td>0.478</td>\n",
       "      <td>1.866667</td>\n",
       "      <td>LINESTRING (-71.39989 41.82704, -71.39993 41.8...</td>\n",
       "      <td>green</td>\n",
       "    </tr>\n",
       "    <tr>\n",
       "      <th>2</th>\n",
       "      <td>0</td>\n",
       "      <td>SciLi</td>\n",
       "      <td>3</td>\n",
       "      <td>Orwig</td>\n",
       "      <td>0.455</td>\n",
       "      <td>1.741667</td>\n",
       "      <td>LINESTRING (-71.39989 41.82704, -71.39993 41.8...</td>\n",
       "      <td>blue</td>\n",
       "    </tr>\n",
       "    <tr>\n",
       "      <th>3</th>\n",
       "      <td>0</td>\n",
       "      <td>SciLi</td>\n",
       "      <td>4</td>\n",
       "      <td>Champlin</td>\n",
       "      <td>1.229</td>\n",
       "      <td>3.870000</td>\n",
       "      <td>LINESTRING (-71.39989 41.82704, -71.39993 41.8...</td>\n",
       "      <td>gray</td>\n",
       "    </tr>\n",
       "  </tbody>\n",
       "</table>\n",
       "</div>"
      ],
      "text/plain": [
       "  ogn_id ogn_name dest_id dest_name  distance  travtime  \\\n",
       "0      0    SciLi       1      Rock     0.526  2.178333   \n",
       "1      0    SciLi       2       Hay     0.478  1.866667   \n",
       "2      0    SciLi       3     Orwig     0.455  1.741667   \n",
       "3      0    SciLi       4  Champlin     1.229  3.870000   \n",
       "\n",
       "                                            geometry  color  \n",
       "0  LINESTRING (-71.39989 41.82704, -71.39993 41.8...    red  \n",
       "1  LINESTRING (-71.39989 41.82704, -71.39993 41.8...  green  \n",
       "2  LINESTRING (-71.39989 41.82704, -71.39993 41.8...   blue  \n",
       "3  LINESTRING (-71.39989 41.82704, -71.39993 41.8...   gray  "
      ]
     },
     "execution_count": 18,
     "metadata": {},
     "output_type": "execute_result"
    }
   ],
   "source": [
    "# Get colors for lines\n",
    "gdfcount=len(gdf) # number of routes\n",
    "colors=['red','green','blue','gray','purple','brown']\n",
    "clist=[] # list of colors, one per route\n",
    "c=0\n",
    "for i in range(gdfcount):\n",
    "    clist.append(colors[c])\n",
    "    c=c+1\n",
    "    if c>len(colors)-1:\n",
    "        c=0 # if we run out of colors, start over\n",
    "color_series = pd.Series(clist,name='color') # create series in order to...\n",
    "gdf_c=pd.merge(gdf, color_series, left_index=True,right_index=True) # join to routes on seq index #\n",
    "gdf_c"
   ]
  },
  {
   "cell_type": "code",
   "execution_count": 19,
   "id": "c55dc2bd",
   "metadata": {},
   "outputs": [
    {
     "data": {
      "text/html": [
       "<div style=\"width:100%;\"><div style=\"position:relative;width:100%;height:0;padding-bottom:60%;\"><span style=\"color:#565656\">Make this Notebook Trusted to load map: File -> Trust Notebook</span><iframe srcdoc=\"&lt;!DOCTYPE html&gt;\n",
       "&lt;html&gt;\n",
       "&lt;head&gt;\n",
       "    \n",
       "    &lt;meta http-equiv=&quot;content-type&quot; content=&quot;text/html; charset=UTF-8&quot; /&gt;\n",
       "    \n",
       "        &lt;script&gt;\n",
       "            L_NO_TOUCH = false;\n",
       "            L_DISABLE_3D = false;\n",
       "        &lt;/script&gt;\n",
       "    \n",
       "    &lt;style&gt;html, body {width: 100%;height: 100%;margin: 0;padding: 0;}&lt;/style&gt;\n",
       "    &lt;style&gt;#map {position:absolute;top:0;bottom:0;right:0;left:0;}&lt;/style&gt;\n",
       "    &lt;script src=&quot;https://cdn.jsdelivr.net/npm/leaflet@1.9.3/dist/leaflet.js&quot;&gt;&lt;/script&gt;\n",
       "    &lt;script src=&quot;https://code.jquery.com/jquery-1.12.4.min.js&quot;&gt;&lt;/script&gt;\n",
       "    &lt;script src=&quot;https://cdn.jsdelivr.net/npm/bootstrap@5.2.2/dist/js/bootstrap.bundle.min.js&quot;&gt;&lt;/script&gt;\n",
       "    &lt;script src=&quot;https://cdnjs.cloudflare.com/ajax/libs/Leaflet.awesome-markers/2.0.2/leaflet.awesome-markers.js&quot;&gt;&lt;/script&gt;\n",
       "    &lt;link rel=&quot;stylesheet&quot; href=&quot;https://cdn.jsdelivr.net/npm/leaflet@1.9.3/dist/leaflet.css&quot;/&gt;\n",
       "    &lt;link rel=&quot;stylesheet&quot; href=&quot;https://cdn.jsdelivr.net/npm/bootstrap@5.2.2/dist/css/bootstrap.min.css&quot;/&gt;\n",
       "    &lt;link rel=&quot;stylesheet&quot; href=&quot;https://netdna.bootstrapcdn.com/bootstrap/3.0.0/css/bootstrap.min.css&quot;/&gt;\n",
       "    &lt;link rel=&quot;stylesheet&quot; href=&quot;https://cdn.jsdelivr.net/npm/@fortawesome/fontawesome-free@6.2.0/css/all.min.css&quot;/&gt;\n",
       "    &lt;link rel=&quot;stylesheet&quot; href=&quot;https://cdnjs.cloudflare.com/ajax/libs/Leaflet.awesome-markers/2.0.2/leaflet.awesome-markers.css&quot;/&gt;\n",
       "    &lt;link rel=&quot;stylesheet&quot; href=&quot;https://cdn.jsdelivr.net/gh/python-visualization/folium/folium/templates/leaflet.awesome.rotate.min.css&quot;/&gt;\n",
       "    \n",
       "            &lt;meta name=&quot;viewport&quot; content=&quot;width=device-width,\n",
       "                initial-scale=1.0, maximum-scale=1.0, user-scalable=no&quot; /&gt;\n",
       "            &lt;style&gt;\n",
       "                #map_b7275b2cec5ca92f53edfccadb4d7d60 {\n",
       "                    position: relative;\n",
       "                    width: 100.0%;\n",
       "                    height: 100.0%;\n",
       "                    left: 0.0%;\n",
       "                    top: 0.0%;\n",
       "                }\n",
       "                .leaflet-container { font-size: 1rem; }\n",
       "            &lt;/style&gt;\n",
       "        \n",
       "    \n",
       "                    &lt;style&gt;\n",
       "                        .foliumpopup {\n",
       "                            margin: auto;\n",
       "                        }\n",
       "                       .foliumpopup table{\n",
       "                            margin: auto;\n",
       "                        }\n",
       "                        .foliumpopup tr{\n",
       "                            text-align: left;\n",
       "                        }\n",
       "                        .foliumpopup th{\n",
       "                            padding: 2px; padding-right: 8px;\n",
       "                        }\n",
       "                    &lt;/style&gt;\n",
       "            \n",
       "&lt;/head&gt;\n",
       "&lt;body&gt;\n",
       "    \n",
       "    \n",
       "            &lt;div class=&quot;folium-map&quot; id=&quot;map_b7275b2cec5ca92f53edfccadb4d7d60&quot; &gt;&lt;/div&gt;\n",
       "        \n",
       "&lt;/body&gt;\n",
       "&lt;script&gt;\n",
       "    \n",
       "    \n",
       "            var map_b7275b2cec5ca92f53edfccadb4d7d60 = L.map(\n",
       "                &quot;map_b7275b2cec5ca92f53edfccadb4d7d60&quot;,\n",
       "                {\n",
       "                    center: [41.822554999999994, -71.40214499999999],\n",
       "                    crs: L.CRS.EPSG3857,\n",
       "                    zoom: 10,\n",
       "                    zoomControl: true,\n",
       "                    preferCanvas: false,\n",
       "                }\n",
       "            );\n",
       "\n",
       "            \n",
       "\n",
       "        \n",
       "    \n",
       "            var tile_layer_b055fc469a2ce634c7a5fb52cb6afb75 = L.tileLayer(\n",
       "                &quot;https://{s}.tile.openstreetmap.org/{z}/{x}/{y}.png&quot;,\n",
       "                {&quot;attribution&quot;: &quot;Data by \\u0026copy; \\u003ca target=\\&quot;_blank\\&quot; href=\\&quot;http://openstreetmap.org\\&quot;\\u003eOpenStreetMap\\u003c/a\\u003e, under \\u003ca target=\\&quot;_blank\\&quot; href=\\&quot;http://www.openstreetmap.org/copyright\\&quot;\\u003eODbL\\u003c/a\\u003e.&quot;, &quot;detectRetina&quot;: false, &quot;maxNativeZoom&quot;: 18, &quot;maxZoom&quot;: 18, &quot;minZoom&quot;: 0, &quot;noWrap&quot;: false, &quot;opacity&quot;: 1, &quot;subdomains&quot;: &quot;abc&quot;, &quot;tms&quot;: false}\n",
       "            ).addTo(map_b7275b2cec5ca92f53edfccadb4d7d60);\n",
       "        \n",
       "    \n",
       "        function geo_json_87eee1bb63b089ac5a7e48995819915f_styler(feature) {\n",
       "            switch(feature.id) {\n",
       "                case &quot;1&quot;: \n",
       "                    return {&quot;color&quot;: &quot;green&quot;};\n",
       "                case &quot;2&quot;: \n",
       "                    return {&quot;color&quot;: &quot;blue&quot;};\n",
       "                case &quot;3&quot;: \n",
       "                    return {&quot;color&quot;: &quot;gray&quot;};\n",
       "                default:\n",
       "                    return {&quot;color&quot;: &quot;red&quot;};\n",
       "            }\n",
       "        }\n",
       "\n",
       "        function geo_json_87eee1bb63b089ac5a7e48995819915f_onEachFeature(feature, layer) {\n",
       "            layer.on({\n",
       "            });\n",
       "        };\n",
       "        var geo_json_87eee1bb63b089ac5a7e48995819915f = L.geoJson(null, {\n",
       "                onEachFeature: geo_json_87eee1bb63b089ac5a7e48995819915f_onEachFeature,\n",
       "            \n",
       "                style: geo_json_87eee1bb63b089ac5a7e48995819915f_styler,\n",
       "        });\n",
       "\n",
       "        function geo_json_87eee1bb63b089ac5a7e48995819915f_add (data) {\n",
       "            geo_json_87eee1bb63b089ac5a7e48995819915f\n",
       "                .addData(data)\n",
       "                .addTo(map_b7275b2cec5ca92f53edfccadb4d7d60);\n",
       "        }\n",
       "            geo_json_87eee1bb63b089ac5a7e48995819915f_add({&quot;bbox&quot;: [-71.40794, 41.81688, -71.39635, 41.82823], &quot;features&quot;: [{&quot;bbox&quot;: [-71.40482, 41.82576, -71.39932, 41.82823], &quot;geometry&quot;: {&quot;coordinates&quot;: [[-71.39989, 41.82704], [-71.39993, 41.82724], [-71.39959, 41.82727], [-71.39961, 41.82737], [-71.39932, 41.8274], [-71.39938, 41.82773], [-71.39939, 41.82782], [-71.39947, 41.82823], [-71.40065, 41.8281], [-71.40139, 41.82804], [-71.40277, 41.82791], [-71.40317, 41.82788], [-71.40482, 41.82774], [-71.40476, 41.82733], [-71.40472, 41.82692], [-71.40462, 41.82613], [-71.40458, 41.82576]], &quot;type&quot;: &quot;LineString&quot;}, &quot;id&quot;: &quot;0&quot;, &quot;properties&quot;: {&quot;color&quot;: &quot;red&quot;, &quot;dest_id&quot;: &quot;1&quot;, &quot;dest_name&quot;: &quot;Rock&quot;, &quot;distance&quot;: 0.526, &quot;ogn_id&quot;: &quot;0&quot;, &quot;ogn_name&quot;: &quot;SciLi&quot;, &quot;travtime&quot;: 2.1783333333333332}, &quot;type&quot;: &quot;Feature&quot;}, {&quot;bbox&quot;: [-71.40482, 41.82645, -71.39932, 41.82823], &quot;geometry&quot;: {&quot;coordinates&quot;: [[-71.39989, 41.82704], [-71.39993, 41.82724], [-71.39959, 41.82727], [-71.39961, 41.82737], [-71.39932, 41.8274], [-71.39938, 41.82773], [-71.39939, 41.82782], [-71.39947, 41.82823], [-71.40065, 41.8281], [-71.40139, 41.82804], [-71.40277, 41.82791], [-71.40317, 41.82788], [-71.40482, 41.82774], [-71.40476, 41.82733], [-71.40472, 41.82692], [-71.40466, 41.82645]], &quot;type&quot;: &quot;LineString&quot;}, &quot;id&quot;: &quot;1&quot;, &quot;properties&quot;: {&quot;color&quot;: &quot;green&quot;, &quot;dest_id&quot;: &quot;2&quot;, &quot;dest_name&quot;: &quot;Hay&quot;, &quot;distance&quot;: 0.478, &quot;ogn_id&quot;: &quot;0&quot;, &quot;ogn_name&quot;: &quot;SciLi&quot;, &quot;travtime&quot;: 1.8666666666666667}, &quot;type&quot;: &quot;Feature&quot;}, {&quot;bbox&quot;: [-71.39993, 41.82429, -71.39635, 41.8276], &quot;geometry&quot;: {&quot;coordinates&quot;: [[-71.39989, 41.82704], [-71.39993, 41.82724], [-71.39959, 41.82727], [-71.39961, 41.82737], [-71.39932, 41.8274], [-71.39878, 41.82745], [-71.39783, 41.82755], [-71.39723, 41.8276], [-71.39724, 41.8271], [-71.39724, 41.82706], [-71.39725, 41.82672], [-71.39726, 41.82618], [-71.39727, 41.8258], [-71.39724, 41.82507], [-71.39721, 41.82455], [-71.3972, 41.82429], [-71.39635, 41.8243], [-71.39635, 41.82437], [-71.39635, 41.82453], [-71.39638, 41.82457], [-71.39638, 41.82458]], &quot;type&quot;: &quot;LineString&quot;}, &quot;id&quot;: &quot;2&quot;, &quot;properties&quot;: {&quot;color&quot;: &quot;blue&quot;, &quot;dest_id&quot;: &quot;3&quot;, &quot;dest_name&quot;: &quot;Orwig&quot;, &quot;distance&quot;: 0.455, &quot;ogn_id&quot;: &quot;0&quot;, &quot;ogn_name&quot;: &quot;SciLi&quot;, &quot;travtime&quot;: 1.7416666666666667}, &quot;type&quot;: &quot;Feature&quot;}, {&quot;bbox&quot;: [-71.40794, 41.81688, -71.39826, 41.8274], &quot;geometry&quot;: {&quot;coordinates&quot;: [[-71.39989, 41.82704], [-71.39993, 41.82724], [-71.39959, 41.82727], [-71.39961, 41.82737], [-71.39932, 41.8274], [-71.39926, 41.82704], [-71.39924, 41.82692], [-71.39906, 41.82564], [-71.39902, 41.82534], [-71.39896, 41.82489], [-71.39885, 41.82403], [-71.3987, 41.82308], [-71.39863, 41.82269], [-71.39862, 41.82265], [-71.39858, 41.82248], [-71.39855, 41.82216], [-71.39851, 41.8218], [-71.39843, 41.82114], [-71.39838, 41.82056], [-71.39832, 41.82], [-71.39826, 41.8195], [-71.39906, 41.81945], [-71.39941, 41.81939], [-71.39965, 41.81932], [-71.39969, 41.81931], [-71.39978, 41.81931], [-71.40055, 41.81915], [-71.40099, 41.81903], [-71.40115, 41.81899], [-71.40186, 41.81876], [-71.40212, 41.81866], [-71.40243, 41.81852], [-71.40266, 41.81844], [-71.40276, 41.81838], [-71.40452, 41.81765], [-71.405, 41.81749], [-71.40551, 41.81726], [-71.40639, 41.81694], [-71.40647, 41.81688], [-71.40664, 41.81712], [-71.40705, 41.81769], [-71.40725, 41.81796], [-71.40748, 41.81827], [-71.40792, 41.81891], [-71.40794, 41.81895]], &quot;type&quot;: &quot;LineString&quot;}, &quot;id&quot;: &quot;3&quot;, &quot;properties&quot;: {&quot;color&quot;: &quot;gray&quot;, &quot;dest_id&quot;: &quot;4&quot;, &quot;dest_name&quot;: &quot;Champlin&quot;, &quot;distance&quot;: 1.229, &quot;ogn_id&quot;: &quot;0&quot;, &quot;ogn_name&quot;: &quot;SciLi&quot;, &quot;travtime&quot;: 3.8699999999999997}, &quot;type&quot;: &quot;Feature&quot;}], &quot;type&quot;: &quot;FeatureCollection&quot;});\n",
       "\n",
       "        \n",
       "    \n",
       "    geo_json_87eee1bb63b089ac5a7e48995819915f.bindPopup(\n",
       "    function(layer){\n",
       "    let div = L.DomUtil.create(&#x27;div&#x27;);\n",
       "    \n",
       "    let handleObject = feature=&gt;typeof(feature)==&#x27;object&#x27; ? JSON.stringify(feature) : feature;\n",
       "    let fields = [&quot;ogn_name&quot;, &quot;dest_name&quot;, &quot;distance&quot;, &quot;travtime&quot;];\n",
       "    let aliases = [&quot;ogn_name&quot;, &quot;dest_name&quot;, &quot;distance&quot;, &quot;travtime&quot;];\n",
       "    let table = &#x27;&lt;table&gt;&#x27; +\n",
       "        String(\n",
       "        fields.map(\n",
       "        (v,i)=&gt;\n",
       "        `&lt;tr&gt;\n",
       "            &lt;th&gt;${aliases[i].toLocaleString()}&lt;/th&gt;\n",
       "            \n",
       "            &lt;td&gt;${handleObject(layer.feature.properties[v]).toLocaleString()}&lt;/td&gt;\n",
       "        &lt;/tr&gt;`).join(&#x27;&#x27;))\n",
       "    +&#x27;&lt;/table&gt;&#x27;;\n",
       "    div.innerHTML=table;\n",
       "    \n",
       "    return div\n",
       "    }\n",
       "    ,{&quot;className&quot;: &quot;foliumpopup&quot;});\n",
       "                     \n",
       "    \n",
       "            map_b7275b2cec5ca92f53edfccadb4d7d60.fitBounds(\n",
       "                [[41.81688, -71.40794], [41.82823, -71.39635]],\n",
       "                {}\n",
       "            );\n",
       "        \n",
       "&lt;/script&gt;\n",
       "&lt;/html&gt;\" style=\"position:absolute;width:100%;height:100%;left:0;top:0;border:none !important;\" allowfullscreen webkitallowfullscreen mozallowfullscreen></iframe></div></div>"
      ],
      "text/plain": [
       "<folium.folium.Map at 0x280c7721040>"
      ]
     },
     "execution_count": 19,
     "metadata": {},
     "output_type": "execute_result"
    }
   ],
   "source": [
    "# Create folium map\n",
    "# get center point of bbox to specify location for folium\n",
    "bnds=gdf.total_bounds \n",
    "clong=(bnds[0]+bnds[2])/2\n",
    "clat=(bnds[1]+bnds[3])/2\n",
    "\n",
    "m = folium.Map(location=[clat,clong], tiles=\"OpenStreetMap\")\n",
    "popup = folium.GeoJsonPopup(\n",
    "    fields=[\"ogn_name\", \"dest_name\",\"distance\",\"travtime\"],\n",
    "    localize=True,\n",
    "    labels=True)\n",
    "folium.GeoJson(gdf_c,style_function=lambda x: {'color':x['properties']['color']},popup=popup).add_to(m)\n",
    "m.fit_bounds(m.get_bounds()) # zoom to bounding box\n",
    "m"
   ]
  },
  {
   "cell_type": "code",
   "execution_count": null,
   "id": "dc00168d",
   "metadata": {},
   "outputs": [],
   "source": []
  }
 ],
 "metadata": {
  "kernelspec": {
   "display_name": "Python 3 (ipykernel)",
   "language": "python",
   "name": "python3"
  },
  "language_info": {
   "codemirror_mode": {
    "name": "ipython",
    "version": 3
   },
   "file_extension": ".py",
   "mimetype": "text/x-python",
   "name": "python",
   "nbconvert_exporter": "python",
   "pygments_lexer": "ipython3",
   "version": "3.9.17"
  }
 },
 "nbformat": 4,
 "nbformat_minor": 5
}
