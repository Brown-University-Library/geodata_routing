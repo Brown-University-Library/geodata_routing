{
 "cells": [
  {
   "cell_type": "markdown",
   "id": "d47346a0",
   "metadata": {},
   "source": [
    "# Basic Routing with OpenRouteService"
   ]
  },
  {
   "cell_type": "markdown",
   "id": "4ed2c232",
   "metadata": {},
   "source": [
    "Calculate routes and distances from origins and destinations stored in separate CSV files with coordinates, and generate shapefiles and plot on a Folium Map. Input CSVs must contain a header row, with attributes that include a unique id, name, longitude, and latitude in WGS 84\n",
    "\n",
    "Using https://openrouteservice.org/ and https://pypi.org/project/openrouteservice/ with basic examples: https://openrouteservice-py.readthedocs.io/en/latest/\n",
    "\n",
    "Frank Donnelly / Head GIS and Data Services / Brown University Library\n",
    "May 31, 2024 | Revised Mar 2, 2025"
   ]
  },
  {
   "cell_type": "markdown",
   "id": "2fd7b6ef-b347-4223-8923-1927dc67b70b",
   "metadata": {},
   "source": [
    "## Brown Univ CoLab Users¶\n",
    "\n",
    "1. Open this notebook with this URL: https://colab.research.google.com/github/Brown-University-Library/geodata_routing/blob/main/routing_openroute.ipynb\n",
    "\n",
    "2. Run the following two boxes to import this repo into a temporary folder, and install the openrouteservice module\n"
   ]
  },
  {
   "cell_type": "code",
   "execution_count": null,
   "id": "6b3b3fb1-855b-451e-8ec0-bd0abb3d4460",
   "metadata": {},
   "outputs": [],
   "source": [
    "# GOOGLE COLAB USERS - RUN THIS\n",
    "!git clone https://github.com/Brown-University-Library/geodata_routing temp_repo && mv temp_repo/* temp_repo/.[!.]* . && rm -rf temp_repo"
   ]
  },
  {
   "cell_type": "code",
   "execution_count": null,
   "id": "0e1f55cb-be59-497b-a562-2411de9f0b99",
   "metadata": {},
   "outputs": [],
   "source": [
    "# GOOGLE COLAB USERS - RUN THIS\n",
    "!pip install openrouteservice"
   ]
  },
  {
   "cell_type": "markdown",
   "id": "7fb14496-bdeb-43ca-b9cc-4fea036171ce",
   "metadata": {},
   "source": [
    "## Sign up and Request API Key"
   ]
  },
  {
   "cell_type": "markdown",
   "id": "358f207b-0d0a-416c-bec2-e6c0a4495f9a",
   "metadata": {},
   "source": [
    "1. Register for an API Key at: https://account.heigit.org/signup\n",
    "2. Create a text file called **ors_key.txt** in the root folder (where the scripts are stored), and copy / paste / save the key in the file"
   ]
  },
  {
   "cell_type": "markdown",
   "id": "441f1d05-f439-401e-a714-048b4b2be63d",
   "metadata": {},
   "source": [
    "## Import Modules"
   ]
  },
  {
   "cell_type": "code",
   "execution_count": null,
   "id": "54afa37e",
   "metadata": {},
   "outputs": [],
   "source": [
    "import openrouteservice, os, csv, pandas as pd, geopandas as gpd, folium\n",
    "from shapely.geometry import shape\n",
    "from openrouteservice.directions import directions\n",
    "from openrouteservice import convert\n",
    "from datetime import date"
   ]
  },
  {
   "cell_type": "markdown",
   "id": "6be2df5c",
   "metadata": {},
   "source": [
    "## Variables"
   ]
  },
  {
   "cell_type": "code",
   "execution_count": null,
   "id": "81a48fac",
   "metadata": {},
   "outputs": [],
   "source": [
    "# general description, used in output file\n",
    "routename='scili_to_libs'\n",
    "# transit modes: [“driving-car”, “driving-hgv”, “foot-walking”, “foot-hiking”, “cycling-regular”, “cycling-road”,”cycling-mountain”, “cycling-electric”,]\n",
    "tmode='driving-car'\n",
    "# distance units: [“m”, “km”, “mi”]\n",
    "dunits='mi'\n",
    "# route preference: [“fastest, “shortest”, “recommended”]\n",
    "rpref='fastest'"
   ]
  },
  {
   "cell_type": "code",
   "execution_count": null,
   "id": "6d200b8c",
   "metadata": {},
   "outputs": [],
   "source": [
    "# Origin CSV: Column positions that contain: unique ID, name, longitude, latitude\n",
    "ogn_id=0\n",
    "ogn_name=1\n",
    "ogn_long=2\n",
    "ogn_lat=3"
   ]
  },
  {
   "cell_type": "code",
   "execution_count": null,
   "id": "aa7932c3",
   "metadata": {},
   "outputs": [],
   "source": [
    "# Destination CSV: Column positions that contain: unique ID, name, longitude, latitude\n",
    "d_id=0\n",
    "d_name=1\n",
    "d_long=2\n",
    "d_lat=3"
   ]
  },
  {
   "cell_type": "code",
   "execution_count": null,
   "id": "ba18521c",
   "metadata": {},
   "outputs": [],
   "source": [
    "# INPUT Files - Modify to specify input\n",
    "\n",
    "today=str(date.today()).replace('-','_')\n",
    "\n",
    "keyfile='ors_key.txt'\n",
    "origin_file=os.path.join('input','origins.csv')\n",
    "dest_file=os.path.join('input','destinations.csv')"
   ]
  },
  {
   "cell_type": "code",
   "execution_count": null,
   "id": "dbd931f5",
   "metadata": {},
   "outputs": [],
   "source": [
    "# OUTPUT Files\n",
    "\n",
    "route_file=routename+'_'+tmode+'_'+rpref+'_'+today+'.shp'\n",
    "out_file=os.path.join('output',route_file)\n",
    "out_origin=os.path.join('output',os.path.basename(origin_file).split('.')[0]+'_'+today+'.shp')\n",
    "out_dest=os.path.join('output',os.path.basename(dest_file).split('.')[0]+'_'+today+'.shp')"
   ]
  },
  {
   "cell_type": "markdown",
   "id": "e2fdf7cd",
   "metadata": {},
   "source": [
    "## Functions"
   ]
  },
  {
   "cell_type": "code",
   "execution_count": null,
   "id": "5c0e7d49",
   "metadata": {},
   "outputs": [],
   "source": [
    "# For reading origin and dest files\n",
    "def file_reader(infile,outlist):\n",
    "    with open(infile,'r') as f:\n",
    "        reader = csv.reader(f)    \n",
    "        for row in reader:\n",
    "            rec = [i.strip() for i in row]\n",
    "            outlist.append(rec)"
   ]
  },
  {
   "cell_type": "code",
   "execution_count": null,
   "id": "f23dce47",
   "metadata": {},
   "outputs": [],
   "source": [
    "# For converting origins and destinations to geodataframes            \n",
    "def coords_to_gdf(data_list,long,lat,export):\n",
    "    \"\"\"Provide: list of places that includes a header row,\n",
    "    positions in list that have longitude and latitude, and\n",
    "    path for output file.\n",
    "    \"\"\"\n",
    "    df = pd.DataFrame(data_list[1:], columns=data_list[0])\n",
    "    longcol=data_list[0][long]\n",
    "    latcol=data_list[0][lat]\n",
    "    gdf = gpd.GeoDataFrame(df, geometry=gpd.points_from_xy(df[longcol], df[latcol]), crs='EPSG:4326')\n",
    "    gdf.to_file(export,index=True)\n",
    "    print('Wrote shapefile',export,'\\n')\n",
    "    return(gdf)"
   ]
  },
  {
   "cell_type": "markdown",
   "id": "86e133b1",
   "metadata": {},
   "source": [
    "## Read Files"
   ]
  },
  {
   "cell_type": "code",
   "execution_count": null,
   "id": "e50e4fbc",
   "metadata": {},
   "outputs": [],
   "source": [
    "origins=[]\n",
    "file_reader(origin_file,origins)\n",
    "origins"
   ]
  },
  {
   "cell_type": "code",
   "execution_count": null,
   "id": "40beee33",
   "metadata": {},
   "outputs": [],
   "source": [
    "dest=[]\n",
    "file_reader(dest_file,dest)\n",
    "dest"
   ]
  },
  {
   "cell_type": "code",
   "execution_count": null,
   "id": "b5372e53",
   "metadata": {},
   "outputs": [],
   "source": [
    "route_count=0\n",
    "route_list=[]\n",
    "# Column header for route output file:\n",
    "header=['ogn_id','ogn_name','dest_id','dest_name','distance','travtime','route']"
   ]
  },
  {
   "cell_type": "code",
   "execution_count": null,
   "id": "a046b6ae",
   "metadata": {},
   "outputs": [],
   "source": [
    "# Read api key in from file\n",
    "with open(keyfile) as key:\n",
    "    api_key=key.read().strip()"
   ]
  },
  {
   "cell_type": "markdown",
   "id": "aef9e7f2",
   "metadata": {},
   "source": [
    "# REQUESTS BLOCK - API CALL"
   ]
  },
  {
   "cell_type": "code",
   "execution_count": null,
   "id": "16df4ff7",
   "metadata": {},
   "outputs": [],
   "source": [
    "for ogn in origins[1:]:\n",
    "    for d in dest[1:]:\n",
    "        try:\n",
    "            coords=((ogn[ogn_long],ogn[ogn_lat]),(d[d_long],d[d_lat]))\n",
    "            client = openrouteservice.Client(key=api_key) \n",
    "            # Take the returned object, save into nested dicts:\n",
    "            results = directions(client, coords, \n",
    "                                profile=tmode,instructions=False, preference=rpref,units=dunits)\n",
    "            dist = results['routes'][0]['summary']['distance']\n",
    "            travtime=results['routes'][0]['summary']['duration']/60 # Get minutes\n",
    "            encoded_geom = results['routes'][0]['geometry']\n",
    "            decoded_geom = convert.decode_polyline(encoded_geom) #convert from binary to txt\n",
    "            wkt_geom=shape(decoded_geom).wkt #convert from json polyline to wkt\n",
    "            route=[ogn[ogn_id],ogn[ogn_name],d[d_id],d[d_name],dist,travtime,wkt_geom]\n",
    "            route_list.append(route)\n",
    "            route_count=route_count+1\n",
    "            if route_count%40==0: # API limit is 40 requests per minute\n",
    "                print('Pausing 1 minute, processed',route_count,'records...')\n",
    "                sleep(60)\n",
    "        except Exception as e:\n",
    "            print(str(e))\n",
    "\n",
    "print('Plotted',route_count,'routes...' )\n",
    "api_key=''"
   ]
  },
  {
   "cell_type": "code",
   "execution_count": null,
   "id": "0c4629c2",
   "metadata": {},
   "outputs": [],
   "source": [
    "# For example: original output record\n",
    "results"
   ]
  },
  {
   "cell_type": "code",
   "execution_count": null,
   "id": "ebcd92aa",
   "metadata": {},
   "outputs": [],
   "source": [
    "# For example: extracted and formatted output record\n",
    "route"
   ]
  },
  {
   "cell_type": "markdown",
   "id": "4c1b1c27",
   "metadata": {},
   "source": [
    "## Generate Output"
   ]
  },
  {
   "cell_type": "code",
   "execution_count": null,
   "id": "a495ef5a",
   "metadata": {},
   "outputs": [],
   "source": [
    "# Create shapefiles for origins and destinations\n",
    "ogdf=coords_to_gdf(origins,ogn_long,ogn_lat,out_origin)\n",
    "dgdf=coords_to_gdf(dest,d_long,d_lat,out_dest)"
   ]
  },
  {
   "cell_type": "code",
   "execution_count": null,
   "id": "3082e10d",
   "metadata": {},
   "outputs": [],
   "source": [
    "# Create dataframes and shapefile\n",
    "df = pd.DataFrame(route_list, columns=header)\n",
    "gdf = gpd.GeoDataFrame(df, geometry=gpd.GeoSeries.from_wkt(df[\"route\"]),crs = 'EPSG:4326')\n",
    "gdf.drop(['route'],axis=1, inplace=True) # drop the wkt text\n",
    "gdf.to_file(out_file,index=True) # writes out a shapefile\n",
    "print(\"Wrote routes shapefile to:\", out_file)\n",
    "gdf\n"
   ]
  },
  {
   "cell_type": "code",
   "execution_count": null,
   "id": "5bbc213e",
   "metadata": {},
   "outputs": [],
   "source": [
    "# Get colors for lines\n",
    "gdfcount=len(gdf) # number of routes\n",
    "colors=['red','green','blue','gray','purple','brown']\n",
    "clist=[] # list of colors, one per route\n",
    "c=0\n",
    "for i in range(gdfcount):\n",
    "    clist.append(colors[c])\n",
    "    c=c+1\n",
    "    if c>len(colors)-1:\n",
    "        c=0 # if we run out of colors, start over\n",
    "color_series = pd.Series(clist,name='color') # create series in order to...\n",
    "gdf_c=pd.merge(gdf, color_series, left_index=True,right_index=True) # join to routes on seq index #\n",
    "gdf_c"
   ]
  },
  {
   "cell_type": "code",
   "execution_count": null,
   "id": "c55dc2bd",
   "metadata": {},
   "outputs": [],
   "source": [
    "# Create folium map: https://python-visualization.github.io/folium/latest/\n",
    "# get center point of bbox to specify location for folium\n",
    "bnds=gdf.total_bounds \n",
    "clong=(bnds[0]+bnds[2])/2\n",
    "clat=(bnds[1]+bnds[3])/2\n",
    "\n",
    "m = folium.Map(location=[clat,clong], tiles=\"OpenStreetMap\")\n",
    "popup = folium.GeoJsonPopup(\n",
    "    fields=[\"ogn_name\", \"dest_name\",\"distance\",\"travtime\"],\n",
    "    localize=True,\n",
    "    labels=True)\n",
    "folium.GeoJson(gdf_c,style_function=lambda x: {'color':x['properties']['color']},popup=popup).add_to(m)\n",
    "\n",
    "folium.GeoJson(ogdf,marker=folium.Marker(icon=folium.Icon(icon='home',color='black'))).add_to(m)\n",
    "folium.GeoJson(dgdf,marker=folium.Marker(icon=folium.Icon(icon='star',color='lightgray'))).add_to(m)\n",
    "m.fit_bounds(m.get_bounds()) # zoom to bounding box\n",
    "m"
   ]
  },
  {
   "cell_type": "markdown",
   "id": "c9b1f9f0",
   "metadata": {},
   "source": [
    "To see the Folium map in GitHub, view this notebook in nbviewer:\n",
    "\n",
    "https://nbviewer.org/github/Brown-University-Library/geodata_routing/blob/main/routing_openroute.ipynb"
   ]
  }
 ],
 "metadata": {
  "kernelspec": {
   "display_name": "Python 3 (ipykernel)",
   "language": "python",
   "name": "python3"
  },
  "language_info": {
   "codemirror_mode": {
    "name": "ipython",
    "version": 3
   },
   "file_extension": ".py",
   "mimetype": "text/x-python",
   "name": "python",
   "nbconvert_exporter": "python",
   "pygments_lexer": "ipython3",
   "version": "3.12.4"
  }
 },
 "nbformat": 4,
 "nbformat_minor": 5
}
